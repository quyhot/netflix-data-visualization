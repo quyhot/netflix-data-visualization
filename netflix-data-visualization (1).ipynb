{
 "cells": [
  {
   "cell_type": "markdown",
   "metadata": {
    "papermill": {
     "duration": 0.034279,
     "end_time": "2021-04-01T06:48:13.492844",
     "exception": false,
     "start_time": "2021-04-01T06:48:13.458565",
     "status": "completed"
    },
    "tags": []
   },
   "source": [
    "# Data Visualization\n",
    "\n",
    "The purpose of this notebook is to practice data visualization, and hopefully communicate some best-practices along the way.\n",
    "\n",
    "\n",
    "# Please upvote if you find this useful\n",
    "\n",
    "Some sources I'd reccomend for data visualization principles are:\n",
    "\n",
    "- Storytelling with data, C. Knaflic\n",
    "\n",
    "- The visual display of quantitative information, E. Tufte\n",
    "\n",
    "- Better data visualizations, J. Schwabish\n",
    "\n",
    "\n",
    "I have other notebooks that also incoroprate some nice visuals:\n",
    "\n",
    "**UK COVID-19 Vaccination Data Visualization**\n",
    "\n",
    "https://www.kaggle.com/joshuaswords/uk-covid-19-vaccination-progress-data-vis\n",
    "\n",
    "\n",
    "**Exploratory Data Visualization - Student Performance**\n",
    "\n",
    "https://www.kaggle.com/joshuaswords/data-visualisation-student-results\n",
    "\n",
    "**HR Data Set - Visuals & Predictions**\n",
    "\n",
    "https://www.kaggle.com/joshuaswords/awesome-hr-data-visualization-prediction\n",
    "\n",
    "\n",
    "**Visuals & Customer Segmentation**\n",
    "\n",
    "https://www.kaggle.com/joshuaswords/data-visualization-clustering-mall-data\n",
    "\n",
    "\n",
    "As well as learning from other Kagglers who enjoy data viz.\n",
    "\n",
    "With that said, let's go..."
   ]
  },
  {
   "cell_type": "code",
   "execution_count": 8,
   "metadata": {},
   "outputs": [],
   "source": [
    "print('aaaa')"
   ]
  },
  {
   "cell_type": "code",
   "execution_count": 4,
   "metadata": {},
   "outputs": [],
   "source": [
    "!pip3 install numpy==1.23.1"
   ]
  },
  {
   "cell_type": "code",
   "execution_count": 5,
   "metadata": {
    "_cell_guid": "b1076dfc-b9ad-4769-8c92-a6c4dae69d19",
    "_kg_hide-input": true,
    "_uuid": "8f2839f25d086af736a60e9eeb907d3b93b6e0e5",
    "execution": {
     "iopub.execute_input": "2021-04-01T06:48:13.564922Z",
     "iopub.status.busy": "2021-04-01T06:48:13.564283Z",
     "iopub.status.idle": "2021-04-01T06:48:13.584027Z",
     "shell.execute_reply": "2021-04-01T06:48:13.583005Z"
    },
    "papermill": {
     "duration": 0.058024,
     "end_time": "2021-04-01T06:48:13.584307",
     "exception": false,
     "start_time": "2021-04-01T06:48:13.526283",
     "status": "completed"
    },
    "tags": []
   },
   "outputs": [],
   "source": [
    "# This Python 3 environment comes with many helpful analytics libraries installed\n",
    "# It is defined by the kaggle/python Docker image: https://github.com/kaggle/docker-python\n",
    "# For example, here's several helpful packages to load\n",
    "\n",
    "import numpy as np # linear algebra\n",
    "import pandas as pd # data processing, CSV file I/O (e.g. pd.read_csv)\n",
    "\n",
    "# Input data files are available in the read-only \"../input/\" directory\n",
    "# For example, running this (by clicking run or pressing Shift+Enter) will list all files under the input directory\n",
    "\n",
    "import os\n",
    "for dirname, _, filenames in os.walk('/kaggle/input'):\n",
    "    for filename in filenames:\n",
    "        print(os.path.join(dirname, filename))\n",
    "\n",
    "# You can write up to 20GB to the current directory (/kaggle/working/) that gets preserved as output when you create a version using \"Save & Run All\" \n",
    "# You can also write temporary files to /kaggle/temp/, but they won't be saved outside of the current session"
   ]
  },
  {
   "cell_type": "code",
   "execution_count": null,
   "metadata": {
    "_kg_hide-input": true,
    "execution": {
     "iopub.execute_input": "2021-04-01T06:48:13.660285Z",
     "iopub.status.busy": "2021-04-01T06:48:13.659642Z",
     "iopub.status.idle": "2021-04-01T06:48:15.361302Z",
     "shell.execute_reply": "2021-04-01T06:48:15.360696Z"
    },
    "papermill": {
     "duration": 1.742393,
     "end_time": "2021-04-01T06:48:15.361447",
     "exception": false,
     "start_time": "2021-04-01T06:48:13.619054",
     "status": "completed"
    },
    "tags": []
   },
   "outputs": [],
   "source": [
    "# Importing libs\n",
    "import pandas as pd\n",
    "import numpy as np\n",
    "from sklearn.preprocessing import StandardScaler\n",
    "from sklearn.cluster import KMeans, AffinityPropagation\n",
    "import matplotlib.pyplot as plt\n",
    "import seaborn as sns\n",
    "%matplotlib inline\n",
    "import warnings\n",
    "warnings.filterwarnings(\"ignore\")\n",
    "import plotly as py\n",
    "import plotly.graph_objs as go\n",
    "import os\n",
    "py.offline.init_notebook_mode(connected = True)\n",
    "#print(os.listdir(\"../input\"))\n",
    "import datetime as dt\n",
    "import missingno as msno\n",
    "plt.rcParams['figure.dpi'] = 140"
   ]
  },
  {
   "cell_type": "code",
   "execution_count": null,
   "metadata": {
    "_kg_hide-input": true,
    "execution": {
     "iopub.execute_input": "2021-04-01T06:48:15.434238Z",
     "iopub.status.busy": "2021-04-01T06:48:15.433521Z",
     "iopub.status.idle": "2021-04-01T06:48:15.593435Z",
     "shell.execute_reply": "2021-04-01T06:48:15.592884Z"
    },
    "papermill": {
     "duration": 0.198024,
     "end_time": "2021-04-01T06:48:15.593585",
     "exception": false,
     "start_time": "2021-04-01T06:48:15.395561",
     "status": "completed"
    },
    "tags": []
   },
   "outputs": [],
   "source": [
    "df = pd.read_csv('./netflix_titles.csv')\n",
    "\n",
    "df.head(3)"
   ]
  },
  {
   "cell_type": "code",
   "execution_count": null,
   "metadata": {
    "_kg_hide-input": true,
    "execution": {
     "iopub.execute_input": "2021-04-01T06:48:15.681390Z",
     "iopub.status.busy": "2021-04-01T06:48:15.680740Z",
     "iopub.status.idle": "2021-04-01T06:48:15.684900Z",
     "shell.execute_reply": "2021-04-01T06:48:15.685841Z"
    },
    "papermill": {
     "duration": 0.05858,
     "end_time": "2021-04-01T06:48:15.686071",
     "exception": false,
     "start_time": "2021-04-01T06:48:15.627491",
     "status": "completed"
    },
    "tags": []
   },
   "outputs": [],
   "source": [
    "# Missing data\n",
    "\n",
    "for i in df.columns:\n",
    "    null_rate = df[i].isna().sum() / len(df) * 100 \n",
    "    if null_rate > 0 :\n",
    "        print(\"{} null rate: {}%\".format(i,round(null_rate,2)))"
   ]
  },
  {
   "cell_type": "markdown",
   "metadata": {
    "papermill": {
     "duration": 0.03414,
     "end_time": "2021-04-01T06:48:15.755534",
     "exception": false,
     "start_time": "2021-04-01T06:48:15.721394",
     "status": "completed"
    },
    "tags": []
   },
   "source": [
    "- 5 columns have missing values, with Director missing 1/3 of the time"
   ]
  },
  {
   "cell_type": "markdown",
   "metadata": {
    "papermill": {
     "duration": 0.034047,
     "end_time": "2021-04-01T06:48:15.823924",
     "exception": false,
     "start_time": "2021-04-01T06:48:15.789877",
     "status": "completed"
    },
    "tags": []
   },
   "source": [
    "# Dealing with the missing data\n",
    "\n",
    "- This is always scenario dependant, but in this case, I will:\n",
    "    - replace blank countries with the mode (most common) country\n",
    "    - I want to keep director as it could be interesting to look at a certain director's films\n",
    "    - I want to keep cast as it could be interesting to look at a certain cast's films\n",
    "    "
   ]
  },
  {
   "cell_type": "code",
   "execution_count": null,
   "metadata": {
    "execution": {
     "iopub.execute_input": "2021-04-01T06:48:15.917484Z",
     "iopub.status.busy": "2021-04-01T06:48:15.916686Z",
     "iopub.status.idle": "2021-04-01T06:48:15.971479Z",
     "shell.execute_reply": "2021-04-01T06:48:15.970878Z"
    },
    "papermill": {
     "duration": 0.113267,
     "end_time": "2021-04-01T06:48:15.971625",
     "exception": false,
     "start_time": "2021-04-01T06:48:15.858358",
     "status": "completed"
    },
    "tags": []
   },
   "outputs": [],
   "source": [
    "# Replacments\n",
    "\n",
    "df['country'] = df['country'].fillna(df['country'].mode()[0])\n",
    "\n",
    "\n",
    "df['cast'].replace(np.nan, 'No Data',inplace  = True)\n",
    "df['director'].replace(np.nan, 'No Data',inplace  = True)\n",
    "\n",
    "# Drops\n",
    "\n",
    "df.dropna(inplace=True)\n",
    "\n",
    "# Drop Duplicates\n",
    "\n",
    "df.drop_duplicates(inplace= True)"
   ]
  },
  {
   "cell_type": "code",
   "execution_count": null,
   "metadata": {
    "execution": {
     "iopub.execute_input": "2021-04-01T06:48:16.044524Z",
     "iopub.status.busy": "2021-04-01T06:48:16.043832Z",
     "iopub.status.idle": "2021-04-01T06:48:16.061441Z",
     "shell.execute_reply": "2021-04-01T06:48:16.060881Z"
    },
    "papermill": {
     "duration": 0.055451,
     "end_time": "2021-04-01T06:48:16.061598",
     "exception": false,
     "start_time": "2021-04-01T06:48:16.006147",
     "status": "completed"
    },
    "tags": []
   },
   "outputs": [],
   "source": [
    "df.isnull().sum()"
   ]
  },
  {
   "cell_type": "code",
   "execution_count": null,
   "metadata": {
    "execution": {
     "iopub.execute_input": "2021-04-01T06:48:16.136060Z",
     "iopub.status.busy": "2021-04-01T06:48:16.135440Z",
     "iopub.status.idle": "2021-04-01T06:48:16.160399Z",
     "shell.execute_reply": "2021-04-01T06:48:16.159791Z"
    },
    "papermill": {
     "duration": 0.063559,
     "end_time": "2021-04-01T06:48:16.160549",
     "exception": false,
     "start_time": "2021-04-01T06:48:16.096990",
     "status": "completed"
    },
    "tags": []
   },
   "outputs": [],
   "source": [
    "df.info()"
   ]
  },
  {
   "cell_type": "markdown",
   "metadata": {
    "papermill": {
     "duration": 0.034997,
     "end_time": "2021-04-01T06:48:16.231038",
     "exception": false,
     "start_time": "2021-04-01T06:48:16.196041",
     "status": "completed"
    },
    "tags": []
   },
   "source": [
    "# Missing values dealt with, but the date isn't quite right yet..."
   ]
  },
  {
   "cell_type": "code",
   "execution_count": null,
   "metadata": {
    "execution": {
     "iopub.execute_input": "2021-04-01T06:48:16.305173Z",
     "iopub.status.busy": "2021-04-01T06:48:16.304516Z",
     "iopub.status.idle": "2021-04-01T06:48:16.511706Z",
     "shell.execute_reply": "2021-04-01T06:48:16.511139Z"
    },
    "papermill": {
     "duration": 0.245231,
     "end_time": "2021-04-01T06:48:16.511858",
     "exception": false,
     "start_time": "2021-04-01T06:48:16.266627",
     "status": "completed"
    },
    "tags": []
   },
   "outputs": [],
   "source": [
    "df[\"date_added\"] = pd.to_datetime(df['date_added'])\n",
    "\n",
    "df['month_added']=df['date_added'].dt.month\n",
    "df['month_name_added']=df['date_added'].dt.month_name()\n",
    "df['year_added'] = df['date_added'].dt.year\n",
    "\n",
    "df.head(3)"
   ]
  },
  {
   "cell_type": "markdown",
   "metadata": {
    "papermill": {
     "duration": 0.036705,
     "end_time": "2021-04-01T06:48:16.585232",
     "exception": false,
     "start_time": "2021-04-01T06:48:16.548527",
     "status": "completed"
    },
    "tags": []
   },
   "source": [
    "# Okay, let's visualize\n",
    "\n",
    "# Where possible, I'll use the Netflix brand colours\n",
    "\n",
    "https://brand.netflix.com/en/assets/brand-symbol/\n",
    "\n",
    "\n",
    "Using a consistent color palette is a great way to give your work credibility. It looks professional, and keeps the reader engaged. \n",
    "\n",
    "It's an easy-to-implement tip that really helps."
   ]
  },
  {
   "cell_type": "code",
   "execution_count": null,
   "metadata": {
    "execution": {
     "iopub.execute_input": "2021-04-01T06:48:16.680545Z",
     "iopub.status.busy": "2021-04-01T06:48:16.679499Z",
     "iopub.status.idle": "2021-04-01T06:48:16.764356Z",
     "shell.execute_reply": "2021-04-01T06:48:16.764876Z"
    },
    "papermill": {
     "duration": 0.143025,
     "end_time": "2021-04-01T06:48:16.765049",
     "exception": false,
     "start_time": "2021-04-01T06:48:16.622024",
     "status": "completed"
    },
    "tags": []
   },
   "outputs": [],
   "source": [
    "# Palette\n",
    "sns.palplot(['#221f1f', '#b20710', '#e50914','#f5f5f1'])\n",
    "\n",
    "plt.title(\"Netflix brand palette \",loc='left',fontfamily='serif',fontsize=15,y=1.2)\n",
    "plt.show()"
   ]
  },
  {
   "cell_type": "markdown",
   "metadata": {
    "papermill": {
     "duration": 0.036669,
     "end_time": "2021-04-01T06:48:16.838500",
     "exception": false,
     "start_time": "2021-04-01T06:48:16.801831",
     "status": "completed"
    },
    "tags": []
   },
   "source": [
    "# Netflix through the years"
   ]
  },
  {
   "cell_type": "markdown",
   "metadata": {
    "papermill": {
     "duration": 0.036395,
     "end_time": "2021-04-01T06:48:16.911686",
     "exception": false,
     "start_time": "2021-04-01T06:48:16.875291",
     "status": "completed"
    },
    "tags": []
   },
   "source": [
    "Netflix started as DVD rentals, and now they have an audience of over 150m people - this is their story...\n",
    "\n",
    "Timeline code from Subin An's awesome notebook\n",
    "https://www.kaggle.com/subinium/awesome-visualization-with-titanic-dataset"
   ]
  },
  {
   "cell_type": "code",
   "execution_count": null,
   "metadata": {
    "_kg_hide-input": true,
    "execution": {
     "iopub.execute_input": "2021-04-01T06:48:16.989590Z",
     "iopub.status.busy": "2021-04-01T06:48:16.988567Z",
     "iopub.status.idle": "2021-04-01T06:48:17.369496Z",
     "shell.execute_reply": "2021-04-01T06:48:17.370689Z"
    },
    "papermill": {
     "duration": 0.422642,
     "end_time": "2021-04-01T06:48:17.370962",
     "exception": false,
     "start_time": "2021-04-01T06:48:16.948320",
     "status": "completed"
    },
    "tags": []
   },
   "outputs": [],
   "source": [
    "# Timeline code from Subin An's awesome notebook\n",
    "# https://www.kaggle.com/subinium/awesome-visualization-with-titanic-dataset\n",
    "\n",
    "\n",
    "from datetime import datetime\n",
    "\n",
    "## these go on the numbers below\n",
    "tl_dates = [\n",
    "    \"1997\\nFounded\",\n",
    "    \"1998\\nMail Service\",\n",
    "    \"2003\\nGoes Public\",\n",
    "    \"2007\\nStreaming service\",\n",
    "    \"2016\\nGoes Global\",\n",
    "    \"2021\\nNetflix & Chill\"\n",
    "]\n",
    "\n",
    "tl_x = [1, 2, 4, 5.3, 8,9]\n",
    "\n",
    "## these go on the numbers\n",
    "tl_sub_x = [1.5,3,5,6.5,7]\n",
    "\n",
    "\n",
    "tl_sub_times = [\n",
    "    \"1998\",\"2000\",\"2006\",\"2010\",\"2012\"\n",
    "]\n",
    "\n",
    "tl_text = [\n",
    "    \"Netflix.com launched\",\n",
    "    \"Starts\\nPersonal\\nRecommendations\",\"Billionth DVD Delivery\",\"Canadian\\nLaunch\",\"UK Launch\\n(my birthplace)\"]\n",
    "\n",
    "\n",
    "\n",
    "# Set figure & Axes\n",
    "fig, ax = plt.subplots(figsize=(15, 4), constrained_layout=True)\n",
    "ax.set_ylim(-2, 1.75)\n",
    "ax.set_xlim(0, 10)\n",
    "\n",
    "\n",
    "# Timeline : line\n",
    "ax.axhline(0, xmin=0.1, xmax=0.9, c='#4a4a4a', zorder=1)\n",
    "\n",
    "\n",
    "# Timeline : Date Points\n",
    "ax.scatter(tl_x, np.zeros(len(tl_x)), s=120, c='#4a4a4a', zorder=2)\n",
    "ax.scatter(tl_x, np.zeros(len(tl_x)), s=30, c='#fafafa', zorder=3)\n",
    "# Timeline : Time Points\n",
    "ax.scatter(tl_sub_x, np.zeros(len(tl_sub_x)), s=50, c='#4a4a4a',zorder=4)\n",
    "\n",
    "# Date Text\n",
    "for x, date in zip(tl_x, tl_dates):\n",
    "    ax.text(x, -0.55, date, ha='center', \n",
    "            fontfamily='serif', fontweight='bold',\n",
    "            color='#4a4a4a',fontsize=12)\n",
    "    \n",
    "\n",
    "# Stemplot : vertical line\n",
    "levels = np.zeros(len(tl_sub_x))    \n",
    "levels[::2] = 0.3\n",
    "levels[1::2] = -0.3\n",
    "markerline, stemline, baseline = ax.stem(tl_sub_x, levels, use_line_collection=True)    \n",
    "plt.setp(baseline, zorder=0)\n",
    "plt.setp(markerline, marker=',', color='#4a4a4a')\n",
    "plt.setp(stemline, color='#4a4a4a')\n",
    "\n",
    "# Text\n",
    "for idx, x, time, txt in zip(range(1, len(tl_sub_x)+1), tl_sub_x, tl_sub_times, tl_text):\n",
    "    ax.text(x, 1.3*(idx%2)-0.5, time, ha='center', \n",
    "            fontfamily='serif', fontweight='bold',\n",
    "            color='#4a4a4a' if idx!=len(tl_sub_x) else '#b20710', fontsize=11)\n",
    "    \n",
    "    ax.text(x, 1.3*(idx%2)-0.6, txt, va='top', ha='center', \n",
    "        fontfamily='serif',color='#4a4a4a' if idx!=len(tl_sub_x) else '#b20710')\n",
    "\n",
    "\n",
    "\n",
    "# Spine\n",
    "for spine in [\"left\", \"top\", \"right\", \"bottom\"]:\n",
    "    ax.spines[spine].set_visible(False)\n",
    "\n",
    "# Ticks    \n",
    "ax.set_xticks([]) \n",
    "ax.set_yticks([]) \n",
    "\n",
    "# Title\n",
    "ax.set_title(\"Netflix through the years\", fontweight=\"bold\", fontfamily='serif', fontsize=16, color='#4a4a4a')\n",
    "ax.text(2.4,1.57,\"From DVD rentals to a global audience of over 150m people - is it time for Netflix to Chill?\", fontfamily='serif', fontsize=12, color='#4a4a4a')\n",
    "\n",
    "plt.show()"
   ]
  },
  {
   "cell_type": "markdown",
   "metadata": {
    "papermill": {
     "duration": 0.060189,
     "end_time": "2021-04-01T06:48:17.483068",
     "exception": false,
     "start_time": "2021-04-01T06:48:17.422879",
     "status": "completed"
    },
    "tags": []
   },
   "source": [
    "# Content - Let's explore\n",
    "\n",
    "Now we've seen how Netflix came to dominate our TV screens, let's have a look at the content they offer..."
   ]
  },
  {
   "cell_type": "code",
   "execution_count": null,
   "metadata": {
    "execution": {
     "iopub.execute_input": "2021-04-01T06:48:17.587344Z",
     "iopub.status.busy": "2021-04-01T06:48:17.586618Z",
     "iopub.status.idle": "2021-04-01T06:48:17.598484Z",
     "shell.execute_reply": "2021-04-01T06:48:17.598982Z"
    },
    "papermill": {
     "duration": 0.066841,
     "end_time": "2021-04-01T06:48:17.599199",
     "exception": false,
     "start_time": "2021-04-01T06:48:17.532358",
     "status": "completed"
    },
    "tags": []
   },
   "outputs": [],
   "source": [
    "# For viz: Ratio of Movies & TV shows\n",
    "\n",
    "x=df.groupby(['type'])['type'].count()\n",
    "y=len(df)\n",
    "r=((x/y)).round(2)\n",
    "\n",
    "mf_ratio = pd.DataFrame(r).T\n"
   ]
  },
  {
   "cell_type": "code",
   "execution_count": null,
   "metadata": {
    "_kg_hide-input": true,
    "execution": {
     "iopub.execute_input": "2021-04-01T06:48:17.696801Z",
     "iopub.status.busy": "2021-04-01T06:48:17.689766Z",
     "iopub.status.idle": "2021-04-01T06:48:17.807410Z",
     "shell.execute_reply": "2021-04-01T06:48:17.807861Z"
    },
    "papermill": {
     "duration": 0.167464,
     "end_time": "2021-04-01T06:48:17.808034",
     "exception": false,
     "start_time": "2021-04-01T06:48:17.640570",
     "status": "completed"
    },
    "scrolled": true,
    "tags": []
   },
   "outputs": [],
   "source": [
    "fig, ax = plt.subplots(1,1,figsize=(6.5, 2.5))\n",
    "\n",
    "ax.barh(mf_ratio.index, mf_ratio['Movie'], \n",
    "        color='#b20710', alpha=0.9, label='Male')\n",
    "ax.barh(mf_ratio.index, mf_ratio['TV Show'], left=mf_ratio['Movie'], \n",
    "        color='#221f1f', alpha=0.9, label='Female')\n",
    "\n",
    "ax.set_xlim(0, 1)\n",
    "ax.set_xticks([])\n",
    "ax.set_yticks([])\n",
    "#ax.set_yticklabels(mf_ratio.index, fontfamily='serif', fontsize=11)\n",
    "\n",
    "\n",
    "# movie percentage\n",
    "for i in mf_ratio.index:\n",
    "    ax.annotate(f\"{int(mf_ratio['Movie'][i]*100)}%\", \n",
    "                   xy=(mf_ratio['Movie'][i]/2, i),\n",
    "                   va = 'center', ha='center',fontsize=40, fontweight='light', fontfamily='serif',\n",
    "                   color='white')\n",
    "\n",
    "    ax.annotate(\"Movie\", \n",
    "                   xy=(mf_ratio['Movie'][i]/2, -0.25),\n",
    "                   va = 'center', ha='center',fontsize=15, fontweight='light', fontfamily='serif',\n",
    "                   color='white')\n",
    "    \n",
    "    \n",
    "for i in mf_ratio.index:\n",
    "    ax.annotate(f\"{int(mf_ratio['TV Show'][i]*100)}%\", \n",
    "                   xy=(mf_ratio['Movie'][i]+mf_ratio['TV Show'][i]/2, i),\n",
    "                   va = 'center', ha='center',fontsize=40, fontweight='light', fontfamily='serif',\n",
    "                   color='white')\n",
    "    ax.annotate(\"TV Show\", \n",
    "                   xy=(mf_ratio['Movie'][i]+mf_ratio['TV Show'][i]/2, -0.25),\n",
    "                   va = 'center', ha='center',fontsize=15, fontweight='light', fontfamily='serif',\n",
    "                   color='white')\n",
    "\n",
    "\n",
    "\n",
    "\n",
    "\n",
    "\n",
    "# Title & Subtitle\n",
    "fig.text(0.125,1.03,'Movie & TV Show distribution', fontfamily='serif',fontsize=15, fontweight='bold')\n",
    "fig.text(0.125,0.92,'We see vastly more movies than TV shows on Netflix.',fontfamily='serif',fontsize=12)  \n",
    "\n",
    "for s in ['top', 'left', 'right', 'bottom']:\n",
    "    ax.spines[s].set_visible(False)\n",
    "    \n",
    "\n",
    "\n",
    "#ax.legend(loc='lower center', ncol=3, bbox_to_anchor=(0.5, -0.06))\n",
    "\n",
    "# Removing legend due to labelled plot\n",
    "ax.legend().set_visible(False)\n",
    "plt.show()"
   ]
  },
  {
   "cell_type": "markdown",
   "metadata": {
    "papermill": {
     "duration": 0.046288,
     "end_time": "2021-04-01T06:48:17.896919",
     "exception": false,
     "start_time": "2021-04-01T06:48:17.850631",
     "status": "completed"
    },
    "tags": []
   },
   "source": [
    "# By Country\n",
    "\n",
    "So we now know there are much more movies than TV shows on Netflix (which surprises me!).\n",
    "\n",
    "What about if we look at content by country? \n",
    "\n",
    "I would imagine that the USA will have the most content. I wonder how my country, the UK, will compare?"
   ]
  },
  {
   "cell_type": "code",
   "execution_count": null,
   "metadata": {
    "_kg_hide-input": true,
    "execution": {
     "iopub.execute_input": "2021-04-01T06:48:17.983914Z",
     "iopub.status.busy": "2021-04-01T06:48:17.982904Z",
     "iopub.status.idle": "2021-04-01T06:48:18.019579Z",
     "shell.execute_reply": "2021-04-01T06:48:18.020064Z"
    },
    "papermill": {
     "duration": 0.081973,
     "end_time": "2021-04-01T06:48:18.020283",
     "exception": false,
     "start_time": "2021-04-01T06:48:17.938310",
     "status": "completed"
    },
    "tags": []
   },
   "outputs": [],
   "source": [
    "# Quick feature engineering\n",
    "\n",
    "# Helper column for various plots\n",
    "df['count'] = 1\n",
    "\n",
    "# Many productions have several countries listed - this will skew our results , we'll grab the first one mentioned\n",
    "\n",
    "# Lets retrieve just the first country\n",
    "df['first_country'] = df['country'].apply(lambda x: x.split(\",\")[0])\n",
    "df['first_country'].head()\n",
    "\n",
    "# Rating ages from this notebook: https://www.kaggle.com/andreshg/eda-beginner-to-expert-plotly (thank you!)\n",
    "\n",
    "ratings_ages = {\n",
    "    'TV-PG': 'Older Kids',\n",
    "    'TV-MA': 'Adults',\n",
    "    'TV-Y7-FV': 'Older Kids',\n",
    "    'TV-Y7': 'Older Kids',\n",
    "    'TV-14': 'Teens',\n",
    "    'R': 'Adults',\n",
    "    'TV-Y': 'Kids',\n",
    "    'NR': 'Adults',\n",
    "    'PG-13': 'Teens',\n",
    "    'TV-G': 'Kids',\n",
    "    'PG': 'Older Kids',\n",
    "    'G': 'Kids',\n",
    "    'UR': 'Adults',\n",
    "    'NC-17': 'Adults'\n",
    "}\n",
    "\n",
    "df['target_ages'] = df['rating'].replace(ratings_ages)\n",
    "df['target_ages'].unique()\n",
    "\n",
    "# Genre\n",
    "\n",
    "df['genre'] = df['listed_in'].apply(lambda x :  x.replace(' ,',',').replace(', ',',').split(',')) \n",
    "\n",
    "# Reducing name length\n",
    "\n",
    "df['first_country'].replace('United States', 'USA', inplace=True)\n",
    "df['first_country'].replace('United Kingdom', 'UK',inplace=True)\n",
    "df['first_country'].replace('South Korea', 'S. Korea',inplace=True)"
   ]
  },
  {
   "cell_type": "code",
   "execution_count": null,
   "metadata": {
    "_kg_hide-input": true,
    "execution": {
     "iopub.execute_input": "2021-04-01T06:48:18.109101Z",
     "iopub.status.busy": "2021-04-01T06:48:18.108101Z",
     "iopub.status.idle": "2021-04-01T06:48:18.580159Z",
     "shell.execute_reply": "2021-04-01T06:48:18.579499Z"
    },
    "papermill": {
     "duration": 0.518,
     "end_time": "2021-04-01T06:48:18.580316",
     "exception": false,
     "start_time": "2021-04-01T06:48:18.062316",
     "status": "completed"
    },
    "tags": []
   },
   "outputs": [],
   "source": [
    "\n",
    "\n",
    "data = df.groupby('first_country')['count'].sum().sort_values(ascending=False)[:10]\n",
    "\n",
    "# Plot\n",
    "\n",
    "color_map = ['#f5f5f1' for _ in range(10)]\n",
    "color_map[0] = color_map[1] = color_map[2] =  '#b20710' # color highlight\n",
    "\n",
    "fig, ax = plt.subplots(1,1, figsize=(12, 6))\n",
    "ax.bar(data.index, data, width=0.5, \n",
    "       edgecolor='darkgray',\n",
    "       linewidth=0.6,color=color_map)\n",
    "\n",
    "#annotations\n",
    "for i in data.index:\n",
    "    ax.annotate(f\"{data[i]}\", \n",
    "                   xy=(i, data[i] + 150), #i like to change this to roughly 5% of the highest cat\n",
    "                   va = 'center', ha='center',fontweight='light', fontfamily='serif')\n",
    "\n",
    "\n",
    "\n",
    "# Remove border from plot\n",
    "\n",
    "for s in ['top', 'left', 'right']:\n",
    "    ax.spines[s].set_visible(False)\n",
    "    \n",
    "# Tick labels\n",
    "\n",
    "ax.set_xticklabels(data.index, fontfamily='serif', rotation=0)\n",
    "\n",
    "# Title and sub-title\n",
    "\n",
    "fig.text(0.09, 1, 'Top 10 countries on Netflix', fontsize=15, fontweight='bold', fontfamily='serif')\n",
    "fig.text(0.09, 0.95, 'The three most frequent countries have been highlighted.', fontsize=12, fontweight='light', fontfamily='serif')\n",
    "\n",
    "fig.text(1.1, 1.01, 'Insight', fontsize=15, fontweight='bold', fontfamily='serif')\n",
    "\n",
    "fig.text(1.1, 0.67, '''\n",
    "The most prolific producers of\n",
    "content for Netflix are, primarily,\n",
    "the USA, with India and the UK\n",
    "a significant distance behind.\n",
    "\n",
    "It makes sense that the USA produces \n",
    "the most content as, afterall, \n",
    "Netflix is a US company.\n",
    "'''\n",
    "         , fontsize=12, fontweight='light', fontfamily='serif')\n",
    "\n",
    "ax.grid(axis='y', linestyle='-', alpha=0.4)   \n",
    "\n",
    "grid_y_ticks = np.arange(0, 4000, 500) # y ticks, min, max, then step\n",
    "ax.set_yticks(grid_y_ticks)\n",
    "ax.set_axisbelow(True)\n",
    "\n",
    "#Axis labels\n",
    "\n",
    "#plt.xlabel(\"Country\", fontsize=12, fontweight='light', fontfamily='serif',loc='left',y=-1.5)\n",
    "#plt.ylabel(\"Count\", fontsize=12, fontweight='light', fontfamily='serif')\n",
    " #plt.legend(loc='upper right')\n",
    "    \n",
    "# thicken the bottom line if you want to\n",
    "plt.axhline(y = 0, color = 'black', linewidth = 1.3, alpha = .7)\n",
    "\n",
    "ax.tick_params(axis='both', which='major', labelsize=12)\n",
    "\n",
    "\n",
    "import matplotlib.lines as lines\n",
    "l1 = lines.Line2D([1, 1], [0, 1], transform=fig.transFigure, figure=fig,color='black',lw=0.2)\n",
    "fig.lines.extend([l1])\n",
    "\n",
    "ax.tick_params(axis=u'both', which=u'both',length=0)\n",
    "\n",
    "plt.show()\n"
   ]
  },
  {
   "cell_type": "markdown",
   "metadata": {
    "papermill": {
     "duration": 0.049304,
     "end_time": "2021-04-01T06:48:18.675265",
     "exception": false,
     "start_time": "2021-04-01T06:48:18.625961",
     "status": "completed"
    },
    "tags": []
   },
   "source": [
    "As predicted, the USA dominates. \n",
    "\n",
    "The UK is a top contender too, but still some way behind India.\n",
    "\n",
    "How does content by country vary? "
   ]
  },
  {
   "cell_type": "code",
   "execution_count": null,
   "metadata": {
    "_kg_hide-input": false,
    "execution": {
     "iopub.execute_input": "2021-04-01T06:48:18.789225Z",
     "iopub.status.busy": "2021-04-01T06:48:18.788031Z",
     "iopub.status.idle": "2021-04-01T06:48:19.382521Z",
     "shell.execute_reply": "2021-04-01T06:48:19.383017Z"
    },
    "papermill": {
     "duration": 0.66306,
     "end_time": "2021-04-01T06:48:19.383210",
     "exception": false,
     "start_time": "2021-04-01T06:48:18.720150",
     "status": "completed"
    },
    "tags": []
   },
   "outputs": [],
   "source": [
    "country_order = df['first_country'].value_counts()[:11].index\n",
    "data_q2q3 = df[['type', 'first_country']].groupby('first_country')['type'].value_counts().unstack().loc[country_order]\n",
    "data_q2q3['sum'] = data_q2q3.sum(axis=1)\n",
    "data_q2q3_ratio = (data_q2q3.T / data_q2q3['sum']).T[['Movie', 'TV Show']].sort_values(by='Movie',ascending=False)[::-1]\n",
    "\n",
    "\n",
    "\n",
    "\n",
    "###\n",
    "fig, ax = plt.subplots(1,1,figsize=(15, 8),)\n",
    "\n",
    "ax.barh(data_q2q3_ratio.index, data_q2q3_ratio['Movie'], \n",
    "        color='#b20710', alpha=0.8, label='Movie')\n",
    "ax.barh(data_q2q3_ratio.index, data_q2q3_ratio['TV Show'], left=data_q2q3_ratio['Movie'], \n",
    "        color='#221f1f', alpha=0.8, label='TV Show')\n",
    "\n",
    "\n",
    "ax.set_xlim(0, 1)\n",
    "ax.set_xticks([])\n",
    "ax.set_yticklabels(data_q2q3_ratio.index, fontfamily='serif', fontsize=11)\n",
    "\n",
    "# male percentage\n",
    "for i in data_q2q3_ratio.index:\n",
    "    ax.annotate(f\"{data_q2q3_ratio['Movie'][i]*100:.3}%\", \n",
    "                   xy=(data_q2q3_ratio['Movie'][i]/2, i),\n",
    "                   va = 'center', ha='center',fontsize=12, fontweight='light', fontfamily='serif',\n",
    "                   color='white')\n",
    "\n",
    "for i in data_q2q3_ratio.index:\n",
    "    ax.annotate(f\"{data_q2q3_ratio['TV Show'][i]*100:.3}%\", \n",
    "                   xy=(data_q2q3_ratio['Movie'][i]+data_q2q3_ratio['TV Show'][i]/2, i),\n",
    "                   va = 'center', ha='center',fontsize=12, fontweight='light', fontfamily='serif',\n",
    "                   color='white')\n",
    "    \n",
    "\n",
    "fig.text(0.13, 0.93, 'Top 10 countries Movie & TV Show split', fontsize=15, fontweight='bold', fontfamily='serif')   \n",
    "fig.text(0.131, 0.89, 'Percent Stacked Bar Chart', fontsize=12,fontfamily='serif')   \n",
    "\n",
    "for s in ['top', 'left', 'right', 'bottom']:\n",
    "    ax.spines[s].set_visible(False)\n",
    "    \n",
    "#ax.legend(loc='lower center', ncol=3, bbox_to_anchor=(0.5, -0.06))\n",
    "\n",
    "fig.text(0.75,0.9,\"Movie\", fontweight=\"bold\", fontfamily='serif', fontsize=15, color='#b20710')\n",
    "fig.text(0.81,0.9,\"|\", fontweight=\"bold\", fontfamily='serif', fontsize=15, color='black')\n",
    "fig.text(0.82,0.9,\"TV Show\", fontweight=\"bold\", fontfamily='serif', fontsize=15, color='#221f1f')\n",
    "\n",
    "\n",
    "fig.text(1.1, 0.93, 'Insight', fontsize=15, fontweight='bold', fontfamily='serif')\n",
    "\n",
    "fig.text(1.1, 0.44, '''\n",
    "Interestingly, Netflix in India\n",
    "is made up nearly entirely of Movies. \n",
    "\n",
    "Bollywood is big business, and perhaps\n",
    "the main focus of this industry is Movies\n",
    "and not TV Shows.\n",
    "\n",
    "South Korean Netflix on the other hand is \n",
    "almost entirely TV Shows.\n",
    "\n",
    "The underlying resons for the difference \n",
    "in content must be due to market research\n",
    "conducted by Netflix.\n",
    "'''\n",
    "         , fontsize=12, fontweight='light', fontfamily='serif')\n",
    "\n",
    "\n",
    "\n",
    "import matplotlib.lines as lines\n",
    "l1 = lines.Line2D([1, 1], [0, 1], transform=fig.transFigure, figure=fig,color='black',lw=0.2)\n",
    "fig.lines.extend([l1])\n",
    "\n",
    "\n",
    "\n",
    "\n",
    "ax.tick_params(axis='both', which='major', labelsize=12)\n",
    "ax.tick_params(axis=u'both', which=u'both',length=0)\n",
    "\n",
    "plt.show()"
   ]
  },
  {
   "cell_type": "markdown",
   "metadata": {
    "papermill": {
     "duration": 0.04984,
     "end_time": "2021-04-01T06:48:19.485209",
     "exception": false,
     "start_time": "2021-04-01T06:48:19.435369",
     "status": "completed"
    },
    "tags": []
   },
   "source": [
    "As I've noted in the insights on the plot, it is really interesting to see how the split of TV Shows and Movies varies by country.\n",
    "\n",
    "South Korea is dominated by TV Shows - why is this? I am a huge fan of South Korean cinema so I know they have a great movie selection.\n",
    "\n",
    "Equally, India is dominated by Movies. I think this might be due to Bollywood - comment below if you have any other ideas!\n",
    "\n",
    "# Ratings\n",
    "\n",
    "Let's briefly check out how ratings are distributed"
   ]
  },
  {
   "cell_type": "code",
   "execution_count": null,
   "metadata": {
    "execution": {
     "iopub.execute_input": "2021-04-01T06:48:19.588075Z",
     "iopub.status.busy": "2021-04-01T06:48:19.587483Z",
     "iopub.status.idle": "2021-04-01T06:48:19.597126Z",
     "shell.execute_reply": "2021-04-01T06:48:19.597615Z"
    },
    "papermill": {
     "duration": 0.062712,
     "end_time": "2021-04-01T06:48:19.597796",
     "exception": false,
     "start_time": "2021-04-01T06:48:19.535084",
     "status": "completed"
    },
    "tags": []
   },
   "outputs": [],
   "source": [
    "order = pd.DataFrame(df.groupby('rating')['count'].sum().sort_values(ascending=False).reset_index())\n",
    "rating_order = list(order['rating'])"
   ]
  },
  {
   "cell_type": "code",
   "execution_count": null,
   "metadata": {
    "_kg_hide-input": true,
    "execution": {
     "iopub.execute_input": "2021-04-01T06:48:19.713295Z",
     "iopub.status.busy": "2021-04-01T06:48:19.712550Z",
     "iopub.status.idle": "2021-04-01T06:48:20.156994Z",
     "shell.execute_reply": "2021-04-01T06:48:20.156326Z"
    },
    "papermill": {
     "duration": 0.509308,
     "end_time": "2021-04-01T06:48:20.157156",
     "exception": false,
     "start_time": "2021-04-01T06:48:19.647848",
     "status": "completed"
    },
    "tags": []
   },
   "outputs": [],
   "source": [
    "mf = df.groupby('type')['rating'].value_counts().unstack().sort_index().fillna(0).astype(int)[rating_order]\n",
    "\n",
    "movie = mf.loc['Movie']\n",
    "tv = - mf.loc['TV Show']\n",
    "\n",
    "\n",
    "fig, ax = plt.subplots(1,1, figsize=(12, 6))\n",
    "ax.bar(movie.index, movie, width=0.5, color='#b20710', alpha=0.8, label='Movie')\n",
    "ax.bar(tv.index, tv, width=0.5, color='#221f1f', alpha=0.8, label='TV Show')\n",
    "#ax.set_ylim(-35, 50)\n",
    "\n",
    "# Annotations\n",
    "for i in tv.index:\n",
    "    ax.annotate(f\"{-tv[i]}\", \n",
    "                   xy=(i, tv[i] - 60),\n",
    "                   va = 'center', ha='center',fontweight='light', fontfamily='serif',\n",
    "                   color='#4a4a4a')   \n",
    "\n",
    "for i in movie.index:\n",
    "    ax.annotate(f\"{movie[i]}\", \n",
    "                   xy=(i, movie[i] + 60),\n",
    "                   va = 'center', ha='center',fontweight='light', fontfamily='serif',\n",
    "                   color='#4a4a4a')\n",
    "    \n",
    " \n",
    "\n",
    "for s in ['top', 'left', 'right', 'bottom']:\n",
    "    ax.spines[s].set_visible(False)\n",
    "\n",
    "ax.set_xticklabels(mf.columns, fontfamily='serif')\n",
    "ax.set_yticks([])    \n",
    "\n",
    "ax.legend().set_visible(False)\n",
    "fig.text(0.16, 1, 'Rating distribution by Film & TV Show', fontsize=15, fontweight='bold', fontfamily='serif')\n",
    "fig.text(0.16, 0.89, \n",
    "'''We observe that some ratings are only applicable to Movies. \n",
    "The most common for both Movies & TV Shows are TV-MA and TV-14.\n",
    "'''\n",
    "\n",
    ", fontsize=12, fontweight='light', fontfamily='serif')\n",
    "\n",
    "\n",
    "fig.text(0.755,0.924,\"Movie\", fontweight=\"bold\", fontfamily='serif', fontsize=15, color='#b20710')\n",
    "fig.text(0.815,0.924,\"|\", fontweight=\"bold\", fontfamily='serif', fontsize=15, color='black')\n",
    "fig.text(0.825,0.924,\"TV Show\", fontweight=\"bold\", fontfamily='serif', fontsize=15, color='#221f1f')\n",
    "\n",
    "plt.show()"
   ]
  },
  {
   "cell_type": "markdown",
   "metadata": {
    "papermill": {
     "duration": 0.052015,
     "end_time": "2021-04-01T06:48:20.261447",
     "exception": false,
     "start_time": "2021-04-01T06:48:20.209432",
     "status": "completed"
    },
    "tags": []
   },
   "source": [
    "# How has content been added over the years?"
   ]
  },
  {
   "cell_type": "markdown",
   "metadata": {
    "papermill": {
     "duration": 0.051886,
     "end_time": "2021-04-01T06:48:20.365819",
     "exception": false,
     "start_time": "2021-04-01T06:48:20.313933",
     "status": "completed"
    },
    "tags": []
   },
   "source": [
    "As we saw in the timeline at the start of this analysis, Netflix went global in 2016 - and it is extremely noticeable in this plot.\n",
    "\n",
    "The increase is Movie content is remarkable."
   ]
  },
  {
   "cell_type": "code",
   "execution_count": null,
   "metadata": {
    "_kg_hide-input": true,
    "execution": {
     "iopub.execute_input": "2021-04-01T06:48:20.597765Z",
     "iopub.status.busy": "2021-04-01T06:48:20.483294Z",
     "iopub.status.idle": "2021-04-01T06:48:20.908061Z",
     "shell.execute_reply": "2021-04-01T06:48:20.908594Z"
    },
    "papermill": {
     "duration": 0.49036,
     "end_time": "2021-04-01T06:48:20.908779",
     "exception": false,
     "start_time": "2021-04-01T06:48:20.418419",
     "status": "completed"
    },
    "tags": []
   },
   "outputs": [],
   "source": [
    "\n",
    "\n",
    "fig, ax = plt.subplots(1, 1, figsize=(12, 6))\n",
    "color = [\"#b20710\", \"#221f1f\"]\n",
    "\n",
    "for i, mtv in enumerate(df['type'].value_counts().index):\n",
    "    mtv_rel = df[df['type']==mtv]['year_added'].value_counts().sort_index()\n",
    "    ax.plot(mtv_rel.index, mtv_rel, color=color[i], label=mtv)\n",
    "    ax.fill_between(mtv_rel.index, 0, mtv_rel, color=color[i], alpha=0.9)\n",
    "    \n",
    "ax.yaxis.tick_right()\n",
    "    \n",
    "ax.axhline(y = 0, color = 'black', linewidth = 1.3, alpha = .7)\n",
    "\n",
    "#ax.set_ylim(0, 50)\n",
    "#ax.legend(loc='upper left')\n",
    "for s in ['top', 'right','bottom','left']:\n",
    "    ax.spines[s].set_visible(False)\n",
    "\n",
    "ax.grid(False)\n",
    "\n",
    "ax.set_xlim(2008,2020)\n",
    "plt.xticks(np.arange(2008, 2021, 1))\n",
    "\n",
    "fig.text(0.13, 0.85, 'Movies & TV Shows added over time', fontsize=15, fontweight='bold', fontfamily='serif')\n",
    "fig.text(0.13, 0.59, \n",
    "'''We see a slow start for Netflix over several years. \n",
    "Things begin to pick up in 2015 and then there is a \n",
    "rapid increase from 2016.\n",
    "\n",
    "It looks like content additions have slowed down in 2020, \n",
    "likely due to the COVID-19 pandemic.\n",
    "'''\n",
    "\n",
    ", fontsize=12, fontweight='light', fontfamily='serif')\n",
    "\n",
    "\n",
    "fig.text(0.13,0.2,\"Movie\", fontweight=\"bold\", fontfamily='serif', fontsize=15, color='#b20710')\n",
    "fig.text(0.19,0.2,\"|\", fontweight=\"bold\", fontfamily='serif', fontsize=15, color='black')\n",
    "fig.text(0.2,0.2,\"TV Show\", fontweight=\"bold\", fontfamily='serif', fontsize=15, color='#221f1f')\n",
    "\n",
    "ax.tick_params(axis=u'both', which=u'both',length=0)\n",
    "\n",
    "plt.show()"
   ]
  },
  {
   "cell_type": "markdown",
   "metadata": {
    "papermill": {
     "duration": 0.056075,
     "end_time": "2021-04-01T06:48:21.021006",
     "exception": false,
     "start_time": "2021-04-01T06:48:20.964931",
     "status": "completed"
    },
    "tags": []
   },
   "source": [
    "# We can view the same plot, but as a cumulative total..."
   ]
  },
  {
   "cell_type": "code",
   "execution_count": null,
   "metadata": {
    "_kg_hide-input": false,
    "execution": {
     "iopub.execute_input": "2021-04-01T06:48:21.148446Z",
     "iopub.status.busy": "2021-04-01T06:48:21.147709Z",
     "iopub.status.idle": "2021-04-01T06:48:21.447621Z",
     "shell.execute_reply": "2021-04-01T06:48:21.448147Z"
    },
    "papermill": {
     "duration": 0.371142,
     "end_time": "2021-04-01T06:48:21.448397",
     "exception": false,
     "start_time": "2021-04-01T06:48:21.077255",
     "status": "completed"
    },
    "tags": []
   },
   "outputs": [],
   "source": [
    "data_sub = df.groupby('type')['year_added'].value_counts().unstack().fillna(0).loc[['TV Show','Movie']].cumsum(axis=0).T\n",
    "\n",
    "fig, ax = plt.subplots(1, 1, figsize=(12, 6))\n",
    "color = [\"#b20710\", \"#221f1f\"]\n",
    "\n",
    "for i, mtv in enumerate(df['type'].value_counts().index):\n",
    "    mtv_rel = data_sub[mtv]\n",
    "    ax.fill_between(mtv_rel.index, 0, mtv_rel, color=color[i], label=mtv,alpha=0.9)\n",
    "    \n",
    "\n",
    "    \n",
    "ax.yaxis.tick_right()\n",
    "    \n",
    "ax.axhline(y = 0, color = 'black', linewidth = 1.3, alpha = .7)\n",
    "\n",
    "#ax.set_ylim(0, 50)\n",
    "#ax.legend(loc='upper left')\n",
    "for s in ['top', 'right','bottom','left']:\n",
    "    ax.spines[s].set_visible(False)\n",
    "\n",
    "ax.grid(False)\n",
    "\n",
    "ax.set_xlim(2008,2020)\n",
    "plt.xticks(np.arange(2008, 2021, 1))\n",
    "\n",
    "fig.text(0.13, 0.85, 'Movies & TV Shows added over time [Cumulative Total]', fontsize=15, fontweight='bold', fontfamily='serif')\n",
    "fig.text(0.13, 0.58, \n",
    "'''Netflix peak global content amount was in 2019.\n",
    "\n",
    "It appears that Netflix has focused more attention\n",
    "on increasing Movie content that TV Shows. \n",
    "Movies have increased much more dramatically\n",
    "than TV shows.\n",
    "'''\n",
    "\n",
    ", fontsize=12, fontweight='light', fontfamily='serif')\n",
    "\n",
    "\n",
    "\n",
    "fig.text(0.13,0.2,\"Movie\", fontweight=\"bold\", fontfamily='serif', fontsize=15, color='#b20710')\n",
    "fig.text(0.19,0.2,\"|\", fontweight=\"bold\", fontfamily='serif', fontsize=15, color='black')\n",
    "fig.text(0.2,0.2,\"TV Show\", fontweight=\"bold\", fontfamily='serif', fontsize=15, color='#221f1f')\n",
    "\n",
    "ax.tick_params(axis=u'both', which=u'both',length=0)\n",
    "\n",
    "\n",
    "plt.show()"
   ]
  },
  {
   "cell_type": "markdown",
   "metadata": {
    "papermill": {
     "duration": 0.059805,
     "end_time": "2021-04-01T06:48:21.568376",
     "exception": false,
     "start_time": "2021-04-01T06:48:21.508571",
     "status": "completed"
    },
    "tags": []
   },
   "source": [
    "# Month-by-Month\n",
    "\n",
    "We've seen how content has increased over the years, but are there certain months that, on average, tend to enjoy more content being added?\n",
    "\n",
    "I'll show this in a couple of ways - a cumulative year view, and also as a radial plot..."
   ]
  },
  {
   "cell_type": "code",
   "execution_count": null,
   "metadata": {
    "_kg_hide-input": true,
    "execution": {
     "iopub.execute_input": "2021-04-01T06:48:21.695543Z",
     "iopub.status.busy": "2021-04-01T06:48:21.694529Z",
     "iopub.status.idle": "2021-04-01T06:48:21.701379Z",
     "shell.execute_reply": "2021-04-01T06:48:21.701922Z"
    },
    "papermill": {
     "duration": 0.073046,
     "end_time": "2021-04-01T06:48:21.702089",
     "exception": false,
     "start_time": "2021-04-01T06:48:21.629043",
     "status": "completed"
    },
    "tags": []
   },
   "outputs": [],
   "source": [
    "month_order = ['January',\n",
    " 'February',\n",
    " 'March',\n",
    " 'April',\n",
    " 'May',\n",
    " 'June',\n",
    " 'July',\n",
    " 'August',\n",
    " 'September',\n",
    " 'October',\n",
    " 'November',\n",
    " 'December']\n",
    "\n",
    "df['month_name_added'] = pd.Categorical(df['month_name_added'], categories=month_order, ordered=True)"
   ]
  },
  {
   "cell_type": "code",
   "execution_count": null,
   "metadata": {
    "_kg_hide-input": true,
    "execution": {
     "iopub.execute_input": "2021-04-01T06:48:21.825163Z",
     "iopub.status.busy": "2021-04-01T06:48:21.824189Z",
     "iopub.status.idle": "2021-04-01T06:48:22.120002Z",
     "shell.execute_reply": "2021-04-01T06:48:22.120591Z"
    },
    "papermill": {
     "duration": 0.359278,
     "end_time": "2021-04-01T06:48:22.120764",
     "exception": false,
     "start_time": "2021-04-01T06:48:21.761486",
     "status": "completed"
    },
    "tags": []
   },
   "outputs": [],
   "source": [
    "\n",
    "\n",
    "data_sub = df.groupby('type')['month_name_added'].value_counts().unstack().fillna(0).loc[['TV Show','Movie']].cumsum(axis=0).T\n",
    "\n",
    "fig, ax = plt.subplots(1, 1, figsize=(12, 6))\n",
    "color = [\"#b20710\", \"#221f1f\"]\n",
    "\n",
    "for i, mtv in enumerate(df['type'].value_counts().index):\n",
    "    mtv_rel = data_sub[mtv]\n",
    "    ax.fill_between(mtv_rel.index, 0, mtv_rel, color=color[i], label=mtv,alpha=0.9)\n",
    "    \n",
    "\n",
    "    \n",
    "ax.yaxis.tick_right()\n",
    "    \n",
    "ax.axhline(y = 0, color = 'black', linewidth = 1.3, alpha = .4)\n",
    "\n",
    "#ax.set_ylim(0, 50)\n",
    "#ax.legend(loc='upper left')\n",
    "for s in ['top', 'right','bottom','left']:\n",
    "    ax.spines[s].set_visible(False)\n",
    "\n",
    "ax.grid(False)\n",
    "ax.set_xticklabels(data_sub.index, fontfamily='serif', rotation=0)\n",
    "ax.margins(x=0) # remove white spaces next to margins\n",
    "\n",
    "#ax.set_xlim(2008,2020)\n",
    "#plt.xticks(np.arange(2008, 2021, 1))\n",
    "\n",
    "fig.text(0.13, 0.95, 'Content added by month [Cumulative Total]', fontsize=15, fontweight='bold', fontfamily='serif')\n",
    "fig.text(0.13, 0.905, \n",
    "\"The end & beginnings of each year seem to be Netflix's preference for adding content.\"\n",
    "\n",
    ", fontsize=12, fontweight='light', fontfamily='serif')\n",
    "\n",
    "\n",
    "\n",
    "fig.text(0.13,0.855,\"Movie\", fontweight=\"bold\", fontfamily='serif', fontsize=15, color='#b20710')\n",
    "fig.text(0.19,0.855,\"|\", fontweight=\"bold\", fontfamily='serif', fontsize=15, color='black')\n",
    "fig.text(0.2,0.855,\"TV Show\", fontweight=\"bold\", fontfamily='serif', fontsize=15, color='#221f1f')\n",
    "\n",
    "\n",
    "ax.tick_params(axis=u'both', which=u'both',length=0)\n",
    "\n",
    "plt.show()"
   ]
  },
  {
   "cell_type": "markdown",
   "metadata": {
    "papermill": {
     "duration": 0.062006,
     "end_time": "2021-04-01T06:48:22.244724",
     "exception": false,
     "start_time": "2021-04-01T06:48:22.182718",
     "status": "completed"
    },
    "tags": []
   },
   "source": [
    "# What about a more interesting way to view how content is added across the year?\n",
    "\n",
    "Sometimes visualizations should be eye-catching & attention grabbing - I think this visual acheives that, even if it isn't the most precise.\n",
    "\n",
    "By highlighting certain months, the reader's eye is drawn exactly where we want it. "
   ]
  },
  {
   "cell_type": "code",
   "execution_count": null,
   "metadata": {
    "_kg_hide-input": true,
    "execution": {
     "iopub.execute_input": "2021-04-01T06:48:22.373037Z",
     "iopub.status.busy": "2021-04-01T06:48:22.372050Z",
     "iopub.status.idle": "2021-04-01T06:48:23.273358Z",
     "shell.execute_reply": "2021-04-01T06:48:23.272846Z"
    },
    "papermill": {
     "duration": 0.966625,
     "end_time": "2021-04-01T06:48:23.273506",
     "exception": false,
     "start_time": "2021-04-01T06:48:22.306881",
     "status": "completed"
    },
    "tags": []
   },
   "outputs": [],
   "source": [
    "data_sub2 = data_sub\n",
    "\n",
    "data_sub2['Value'] = data_sub2['Movie'] + data_sub2['TV Show']\n",
    "data_sub2 = data_sub2.reset_index()\n",
    "\n",
    "df_polar = data_sub2.sort_values(by='month_name_added',ascending=False)\n",
    "\n",
    "\n",
    "color_map = ['#221f1f' for _ in range(12)]\n",
    "color_map[0] = color_map[11] =  '#b20710' # color highlight\n",
    "\n",
    "\n",
    "# initialize the figure\n",
    "plt.figure(figsize=(8,8))\n",
    "ax = plt.subplot(111, polar=True)\n",
    "plt.axis('off')\n",
    "\n",
    "# Constants = parameters controling the plot layout:\n",
    "upperLimit = 30\n",
    "lowerLimit = 1\n",
    "labelPadding = 30\n",
    "\n",
    "# Compute max and min in the dataset\n",
    "max = df_polar['Value'].max()\n",
    "\n",
    "# Let's compute heights: they are a conversion of each item value in those new coordinates\n",
    "# In our example, 0 in the dataset will be converted to the lowerLimit (10)\n",
    "# The maximum will be converted to the upperLimit (100)\n",
    "slope = (max - lowerLimit) / max\n",
    "heights = slope * df_polar.Value + lowerLimit\n",
    "\n",
    "# Compute the width of each bar. In total we have 2*Pi = 360°\n",
    "width = 2*np.pi / len(df_polar.index)\n",
    "\n",
    "# Compute the angle each bar is centered on:\n",
    "indexes = list(range(1, len(df_polar.index)+1))\n",
    "angles = [element * width for element in indexes]\n",
    "angles\n",
    "\n",
    "# Draw bars\n",
    "bars = ax.bar(\n",
    "    x=angles, \n",
    "    height=heights, \n",
    "    width=width, \n",
    "    bottom=lowerLimit,\n",
    "    linewidth=2, \n",
    "    edgecolor=\"white\",\n",
    "    color=color_map,alpha=0.8\n",
    ")\n",
    "\n",
    "# Add labels\n",
    "for bar, angle, height, label in zip(bars,angles, heights, df_polar[\"month_name_added\"]):\n",
    "\n",
    "    # Labels are rotated. Rotation must be specified in degrees :(\n",
    "    rotation = np.rad2deg(angle)\n",
    "\n",
    "    # Flip some labels upside down\n",
    "    alignment = \"\"\n",
    "    if angle >= np.pi/2 and angle < 3*np.pi/2:\n",
    "        alignment = \"right\"\n",
    "        rotation = rotation + 180\n",
    "    else: \n",
    "        alignment = \"left\"\n",
    "\n",
    "    # Finally add the labels\n",
    "    ax.text(\n",
    "        x=angle, \n",
    "        y=lowerLimit + bar.get_height() + labelPadding, \n",
    "        s=label, \n",
    "        ha=alignment, fontsize=10,fontfamily='serif',\n",
    "        va='center', \n",
    "        rotation=rotation, \n",
    "        rotation_mode=\"anchor\") "
   ]
  },
  {
   "cell_type": "markdown",
   "metadata": {
    "papermill": {
     "duration": 0.066473,
     "end_time": "2021-04-01T06:48:23.409311",
     "exception": false,
     "start_time": "2021-04-01T06:48:23.342838",
     "status": "completed"
    },
    "tags": []
   },
   "source": [
    "Yes, December & January are definitely the best months for new content. Maybe Netflix knows that people have a lot of time off from work over this period and that it is a good time to reel people in?\n",
    "\n",
    "February is the worst - why might this be? Ideas welcomed!"
   ]
  },
  {
   "cell_type": "markdown",
   "metadata": {
    "papermill": {
     "duration": 0.066503,
     "end_time": "2021-04-01T06:48:23.543495",
     "exception": false,
     "start_time": "2021-04-01T06:48:23.476992",
     "status": "completed"
    },
    "tags": []
   },
   "source": [
    "# Movie Genres\n",
    "\n",
    "Let's now explore movie genres a little..."
   ]
  },
  {
   "cell_type": "code",
   "execution_count": null,
   "metadata": {
    "_kg_hide-input": true,
    "execution": {
     "iopub.execute_input": "2021-04-01T06:48:23.689533Z",
     "iopub.status.busy": "2021-04-01T06:48:23.685926Z",
     "iopub.status.idle": "2021-04-01T06:48:23.692548Z",
     "shell.execute_reply": "2021-04-01T06:48:23.693027Z"
    },
    "papermill": {
     "duration": 0.082965,
     "end_time": "2021-04-01T06:48:23.693225",
     "exception": false,
     "start_time": "2021-04-01T06:48:23.610260",
     "status": "completed"
    },
    "tags": []
   },
   "outputs": [],
   "source": [
    "# Genres\n",
    "from sklearn.preprocessing import MultiLabelBinarizer \n",
    "\n",
    "import matplotlib.colors\n",
    "\n",
    "\n",
    "# Custom colour map based on Netflix palette\n",
    "cmap = matplotlib.colors.LinearSegmentedColormap.from_list(\"\", ['#221f1f', '#b20710','#f5f5f1'])\n",
    "\n",
    "\n",
    "\n",
    "def genre_heatmap(df, title):\n",
    "    df['genre'] = df['listed_in'].apply(lambda x :  x.replace(' ,',',').replace(', ',',').split(',')) \n",
    "    Types = []\n",
    "    for i in df['genre']: Types += i\n",
    "    Types = set(Types)\n",
    "    print(\"There are {} types in the Netflix {} Dataset\".format(len(Types),title))    \n",
    "    test = df['genre']\n",
    "    mlb = MultiLabelBinarizer()\n",
    "    res = pd.DataFrame(mlb.fit_transform(test), columns=mlb.classes_, index=test.index)\n",
    "    corr = res.corr()\n",
    "    mask = np.zeros_like(corr, dtype=bool)\n",
    "    mask[np.triu_indices_from(mask)] = True\n",
    "    fig, ax = plt.subplots(figsize=(10, 7))\n",
    "    fig.text(.54,.88,'Genre correlation', fontfamily='serif',fontweight='bold',fontsize=15)\n",
    "    fig.text(.75,.665,\n",
    "            '''\n",
    "             It is interesting that Independant Movies\n",
    "             tend to be Dramas. \n",
    "             \n",
    "             Another observation is that \n",
    "             Internatinal Movies are rarely\n",
    "             in the Children's genre.\n",
    "             ''', fontfamily='serif',fontsize=12,ha='right')\n",
    "    pl = sns.heatmap(corr, mask=mask, cmap=cmap, vmax=.3, vmin=-.3, center=0, square=True, linewidths=2.5)\n",
    "    \n",
    "    plt.show()"
   ]
  },
  {
   "cell_type": "code",
   "execution_count": null,
   "metadata": {
    "_kg_hide-input": true,
    "execution": {
     "iopub.execute_input": "2021-04-01T06:48:23.830776Z",
     "iopub.status.busy": "2021-04-01T06:48:23.830067Z",
     "iopub.status.idle": "2021-04-01T06:48:24.553452Z",
     "shell.execute_reply": "2021-04-01T06:48:24.553952Z"
    },
    "papermill": {
     "duration": 0.79329,
     "end_time": "2021-04-01T06:48:24.554143",
     "exception": false,
     "start_time": "2021-04-01T06:48:23.760853",
     "status": "completed"
    },
    "tags": []
   },
   "outputs": [],
   "source": [
    "df_tv = df[df[\"type\"] == \"TV Show\"]\n",
    "df_movies = df[df[\"type\"] == \"Movie\"]\n",
    "\n",
    "\n",
    "genre_heatmap(df_movies, 'Movie')\n",
    "plt.show()"
   ]
  },
  {
   "cell_type": "code",
   "execution_count": null,
   "metadata": {
    "_kg_hide-input": true,
    "execution": {
     "iopub.execute_input": "2021-04-01T06:48:24.707072Z",
     "iopub.status.busy": "2021-04-01T06:48:24.706060Z",
     "iopub.status.idle": "2021-04-01T06:48:24.716376Z",
     "shell.execute_reply": "2021-04-01T06:48:24.715695Z"
    },
    "papermill": {
     "duration": 0.090158,
     "end_time": "2021-04-01T06:48:24.716517",
     "exception": false,
     "start_time": "2021-04-01T06:48:24.626359",
     "status": "completed"
    },
    "tags": []
   },
   "outputs": [],
   "source": [
    "\n",
    "\n",
    "data = df.groupby('first_country')[['first_country','count']].sum().sort_values(by='count',ascending=False).reset_index()[:10]\n",
    "data = data['first_country']\n",
    "\n",
    "\n",
    "df_heatmap = df.loc[df['first_country'].isin(data)]"
   ]
  },
  {
   "cell_type": "code",
   "execution_count": null,
   "metadata": {
    "_kg_hide-input": true,
    "execution": {
     "iopub.execute_input": "2021-04-01T06:48:24.870705Z",
     "iopub.status.busy": "2021-04-01T06:48:24.869964Z",
     "iopub.status.idle": "2021-04-01T06:48:24.888976Z",
     "shell.execute_reply": "2021-04-01T06:48:24.889538Z"
    },
    "papermill": {
     "duration": 0.100679,
     "end_time": "2021-04-01T06:48:24.889716",
     "exception": false,
     "start_time": "2021-04-01T06:48:24.789037",
     "status": "completed"
    },
    "tags": []
   },
   "outputs": [],
   "source": [
    "df_heatmap = pd.crosstab(df_heatmap['first_country'],df_heatmap['target_ages'],normalize = \"index\").T\n",
    "\n"
   ]
  },
  {
   "cell_type": "markdown",
   "metadata": {
    "papermill": {
     "duration": 0.071886,
     "end_time": "2021-04-01T06:48:25.034313",
     "exception": false,
     "start_time": "2021-04-01T06:48:24.962427",
     "status": "completed"
    },
    "tags": []
   },
   "source": [
    "# Target Ages\n",
    "\n",
    "Does Netflix uniformly target certain demographics? Or does this vary by country?\n",
    "\n"
   ]
  },
  {
   "cell_type": "code",
   "execution_count": null,
   "metadata": {
    "_kg_hide-input": true,
    "execution": {
     "iopub.execute_input": "2021-04-01T06:48:25.209188Z",
     "iopub.status.busy": "2021-04-01T06:48:25.208155Z",
     "iopub.status.idle": "2021-04-01T06:48:25.742453Z",
     "shell.execute_reply": "2021-04-01T06:48:25.741648Z"
    },
    "papermill": {
     "duration": 0.634867,
     "end_time": "2021-04-01T06:48:25.742604",
     "exception": false,
     "start_time": "2021-04-01T06:48:25.107737",
     "status": "completed"
    },
    "tags": []
   },
   "outputs": [],
   "source": [
    "fig, ax = plt.subplots(1, 1, figsize=(12, 12))\n",
    "\n",
    "country_order2 = ['USA', 'India', 'UK', 'Canada', 'Japan', 'France', 'S. Korea', 'Spain',\n",
    "       'Mexico', 'Turkey']\n",
    "\n",
    "age_order = ['Kids','Older Kids','Teens','Adults']\n",
    "\n",
    "sns.heatmap(df_heatmap.loc[age_order,country_order2],cmap=cmap,square=True, linewidth=2.5,cbar=False,\n",
    "            annot=True,fmt='1.0%',vmax=.6,vmin=0.05,ax=ax,annot_kws={\"fontsize\":12})\n",
    "\n",
    "ax.spines['top'].set_visible(True)\n",
    "\n",
    "\n",
    "fig.text(.99, .725, 'Target ages proportion of total content by country', fontweight='bold', fontfamily='serif', fontsize=15,ha='right')   \n",
    "fig.text(0.99, 0.7, 'Here we see interesting differences between countries. Most shows in India are targeted to teens, for instance.',ha='right', fontsize=12,fontfamily='serif') \n",
    "\n",
    "ax.set_yticklabels(ax.get_yticklabels(), fontfamily='serif', rotation = 0, fontsize=11)\n",
    "ax.set_xticklabels(ax.get_xticklabels(), fontfamily='serif', rotation=90, fontsize=11)\n",
    "\n",
    "ax.set_ylabel('')    \n",
    "ax.set_xlabel('')\n",
    "ax.tick_params(axis=u'both', which=u'both',length=0)\n",
    "plt.tight_layout()\n",
    "plt.show()"
   ]
  },
  {
   "cell_type": "markdown",
   "metadata": {
    "papermill": {
     "duration": 0.075417,
     "end_time": "2021-04-01T06:48:25.894945",
     "exception": false,
     "start_time": "2021-04-01T06:48:25.819528",
     "status": "completed"
    },
    "tags": []
   },
   "source": [
    "Very interesting results. \n",
    "\n",
    "It is also interesting to note similarities between culturally similar countries - the US & UK are closey aligned with their Netflix target ages, yet vastly different to say, India or Japan!"
   ]
  },
  {
   "cell_type": "markdown",
   "metadata": {
    "papermill": {
     "duration": 0.075426,
     "end_time": "2021-04-01T06:48:26.045983",
     "exception": false,
     "start_time": "2021-04-01T06:48:25.970557",
     "status": "completed"
    },
    "tags": []
   },
   "source": [
    "# Let's have a quick look at the lag between when content is released and when it is added on Netflix\n",
    "\n",
    "Spain looks to have a lot of new content. Great for them!"
   ]
  },
  {
   "cell_type": "code",
   "execution_count": null,
   "metadata": {
    "_kg_hide-input": true,
    "execution": {
     "iopub.execute_input": "2021-04-01T06:48:26.217513Z",
     "iopub.status.busy": "2021-04-01T06:48:26.212822Z",
     "iopub.status.idle": "2021-04-01T06:48:26.488930Z",
     "shell.execute_reply": "2021-04-01T06:48:26.488316Z"
    },
    "papermill": {
     "duration": 0.367252,
     "end_time": "2021-04-01T06:48:26.489073",
     "exception": false,
     "start_time": "2021-04-01T06:48:26.121821",
     "status": "completed"
    },
    "tags": []
   },
   "outputs": [],
   "source": [
    "# Data\n",
    "\n",
    "df_movies\n",
    "df_tv\n",
    "\n",
    "### Relevant groupings\n",
    "\n",
    "data = df_movies.groupby('first_country')[['first_country','count']].sum().sort_values(by='count',ascending=False).reset_index()[:10]\n",
    "data = data['first_country']\n",
    "df_loli = df_movies.loc[df_movies['first_country'].isin(data)]\n",
    "\n",
    "loli = df_loli.groupby('first_country')['release_year','year_added'].mean().round()\n",
    "\n",
    "\n",
    "# Reorder it following the values of the first value\n",
    "ordered_df = loli.sort_values(by='release_year')\n",
    "\n",
    "ordered_df_rev = loli.sort_values(by='release_year',ascending=False)\n",
    "\n",
    "my_range=range(1,len(loli.index)+1)\n",
    "\n",
    "\n",
    "fig, ax = plt.subplots(1, 1, figsize=(7, 5))\n",
    "\n",
    "fig.text(0.13, 0.9, 'How old are the movies? [Average]', fontsize=15, fontweight='bold', fontfamily='serif')\n",
    "plt.hlines(y=my_range, xmin=ordered_df['release_year'], xmax=ordered_df['year_added'], color='grey', alpha=0.4)\n",
    "plt.scatter(ordered_df['release_year'], my_range, color='#221f1f',s=100, alpha=0.9, label='Average release date')\n",
    "plt.scatter(ordered_df['year_added'], my_range, color='#b20710',s=100, alpha=0.9 , label='Average added date')\n",
    "#plt.legend()\n",
    "\n",
    "for s in ['top', 'left', 'right', 'bottom']:\n",
    "    ax.spines[s].set_visible(False)\n",
    "    \n",
    "\n",
    "# Removes the tick marks but keeps the labels\n",
    "ax.tick_params(axis=u'both', which=u'both',length=0)\n",
    "# Move Y axis to the right side\n",
    "ax.yaxis.tick_right()\n",
    "\n",
    "plt.yticks(my_range, ordered_df.index)\n",
    "plt.yticks(fontname = \"serif\",fontsize=12)\n",
    "\n",
    "# Custome legend\n",
    "fig.text(0.19,0.175,\"Released\", fontweight=\"bold\", fontfamily='serif', fontsize=12, color='#221f1f')\n",
    "fig.text(0.76,0.175,\"Added\", fontweight=\"bold\", fontfamily='serif', fontsize=12, color='#b20710')\n",
    "\n",
    "\n",
    "fig.text(0.13, 0.46, \n",
    "'''The average gap between when \n",
    "content is released, and when it\n",
    "is then added on Netflix varies\n",
    "by country. \n",
    "\n",
    "In Spain, Netflix appears to be \n",
    "dominated by newer movies \n",
    "whereas Egypt & India have\n",
    "an older average movie.\n",
    "'''\n",
    "\n",
    ", fontsize=12, fontweight='light', fontfamily='serif')\n",
    "\n",
    "\n",
    "#plt.xlabel('Year')\n",
    "#plt.ylabel('Country')\n",
    "plt.show()"
   ]
  },
  {
   "cell_type": "markdown",
   "metadata": {
    "papermill": {
     "duration": 0.07798,
     "end_time": "2021-04-01T06:48:26.647210",
     "exception": false,
     "start_time": "2021-04-01T06:48:26.569230",
     "status": "completed"
    },
    "tags": []
   },
   "source": [
    "What about TV shows..."
   ]
  },
  {
   "cell_type": "code",
   "execution_count": null,
   "metadata": {
    "_kg_hide-input": true,
    "execution": {
     "iopub.execute_input": "2021-04-01T06:48:26.822893Z",
     "iopub.status.busy": "2021-04-01T06:48:26.820602Z",
     "iopub.status.idle": "2021-04-01T06:48:27.091019Z",
     "shell.execute_reply": "2021-04-01T06:48:27.091547Z"
    },
    "papermill": {
     "duration": 0.366217,
     "end_time": "2021-04-01T06:48:27.091722",
     "exception": false,
     "start_time": "2021-04-01T06:48:26.725505",
     "status": "completed"
    },
    "tags": []
   },
   "outputs": [],
   "source": [
    "data = df_tv.groupby('first_country')[['first_country','count']].sum().sort_values(by='count',ascending=False).reset_index()[:10]\n",
    "data = data['first_country']\n",
    "df_loli = df_tv.loc[df_tv['first_country'].isin(data)]\n",
    "\n",
    "loli = df_loli.groupby('first_country')['release_year','year_added'].mean().round()\n",
    "\n",
    "\n",
    "# Reorder it following the values of the first value:\n",
    "ordered_df = loli.sort_values(by='release_year')\n",
    "\n",
    "ordered_df_rev = loli.sort_values(by='release_year',ascending=False)\n",
    "\n",
    "my_range=range(1,len(loli.index)+1)\n",
    "\n",
    "\n",
    "fig, ax = plt.subplots(1, 1, figsize=(7, 5))\n",
    "\n",
    "fig.text(0.13, 0.9, 'How old are the TV shows? [Average]', fontsize=15, fontweight='bold', fontfamily='serif')\n",
    "plt.hlines(y=my_range, xmin=ordered_df['release_year'], xmax=ordered_df['year_added'], color='grey', alpha=0.4)\n",
    "plt.scatter(ordered_df['release_year'], my_range, color='#221f1f',s=100, alpha=0.9, label='Average release date')\n",
    "plt.scatter(ordered_df['year_added'], my_range, color='#b20710',s=100, alpha=0.9 , label='Average added date')\n",
    "#plt.legend()\n",
    "\n",
    "for s in ['top', 'left', 'right', 'bottom']:\n",
    "    ax.spines[s].set_visible(False)\n",
    "    \n",
    "ax.yaxis.tick_right()\n",
    "plt.yticks(my_range, ordered_df.index)\n",
    "plt.yticks(fontname = \"serif\",fontsize=12)\n",
    "\n",
    "\n",
    "fig.text(0.19,0.175,\"Released\", fontweight=\"bold\", fontfamily='serif', fontsize=12, color='#221f1f')\n",
    "\n",
    "fig.text(0.47,0.175,\"Added\", fontweight=\"bold\", fontfamily='serif', fontsize=12, color='#b20710')\n",
    "\n",
    "\n",
    "fig.text(0.13, 0.42, \n",
    "'''The gap for TV shows seems\n",
    "more regular than for movies.\n",
    "\n",
    "This is likely due to subsequent\n",
    "series being released\n",
    "year-on-year.\n",
    "\n",
    "Spain seems to have\n",
    "the newest content\n",
    "overall.\n",
    "'''\n",
    "\n",
    ", fontsize=12, fontweight='light', fontfamily='serif')\n",
    "\n",
    "\n",
    "ax.tick_params(axis=u'both', which=u'both',length=0)\n",
    "#plt.xlabel('Value of the variables')\n",
    "#plt.ylabel('Group')\n",
    "plt.show()"
   ]
  },
  {
   "cell_type": "code",
   "execution_count": null,
   "metadata": {
    "execution": {
     "iopub.execute_input": "2021-04-01T06:48:27.271064Z",
     "iopub.status.busy": "2021-04-01T06:48:27.267017Z",
     "iopub.status.idle": "2021-04-01T06:48:27.278843Z",
     "shell.execute_reply": "2021-04-01T06:48:27.279466Z"
    },
    "papermill": {
     "duration": 0.104408,
     "end_time": "2021-04-01T06:48:27.279652",
     "exception": false,
     "start_time": "2021-04-01T06:48:27.175244",
     "status": "completed"
    },
    "tags": []
   },
   "outputs": [],
   "source": [
    "\n",
    "us_ind = df[(df['first_country'] == 'USA') | (df['first_country'] == 'India' )]\n",
    "\n",
    "data_sub = df.groupby('first_country')['year_added'].value_counts().unstack().fillna(0).loc[['USA','India']].cumsum(axis=0).T\n"
   ]
  },
  {
   "cell_type": "markdown",
   "metadata": {
    "papermill": {
     "duration": 0.082244,
     "end_time": "2021-04-01T06:48:27.445718",
     "exception": false,
     "start_time": "2021-04-01T06:48:27.363474",
     "status": "completed"
    },
    "tags": []
   },
   "source": [
    "# USA & India\n",
    "\n",
    "As the two largest content countries, it might be fun to compare the two"
   ]
  },
  {
   "cell_type": "code",
   "execution_count": null,
   "metadata": {
    "execution": {
     "iopub.execute_input": "2021-04-01T06:48:27.639138Z",
     "iopub.status.busy": "2021-04-01T06:48:27.622380Z",
     "iopub.status.idle": "2021-04-01T06:48:27.946005Z",
     "shell.execute_reply": "2021-04-01T06:48:27.945479Z"
    },
    "papermill": {
     "duration": 0.41949,
     "end_time": "2021-04-01T06:48:27.946197",
     "exception": false,
     "start_time": "2021-04-01T06:48:27.526707",
     "status": "completed"
    },
    "tags": []
   },
   "outputs": [],
   "source": [
    "fig, ax = plt.subplots(1, 1, figsize=(12, 6))\n",
    "color = ['#221f1f', '#b20710','#f5f5f1']\n",
    "\n",
    "for i, hs in enumerate(us_ind['first_country'].value_counts().index):\n",
    "    hs_built = us_ind[us_ind['first_country']==hs]['year_added'].value_counts().sort_index()\n",
    "    ax.plot(hs_built.index, hs_built, color=color[i], label=hs)\n",
    "    #ax.fill_between(hs_built.index, 0, hs_built, color=color[i], alpha=0.4)\n",
    "    ax.fill_between(hs_built.index, 0, hs_built, color=color[i], label=hs)\n",
    "    \n",
    "\n",
    "ax.set_ylim(0, 1000)\n",
    "#ax.legend(loc='upper left')\n",
    "for s in ['top', 'right']:\n",
    "    ax.spines[s].set_visible(False)\n",
    "\n",
    "ax.yaxis.tick_right()\n",
    "    \n",
    "ax.axhline(y = 0, color = 'black', linewidth = 1.3, alpha = .4)\n",
    "\n",
    "#ax.set_ylim(0, 50)\n",
    "#ax.legend(loc='upper left')\n",
    "for s in ['top', 'right','bottom','left']:\n",
    "    ax.spines[s].set_visible(False)\n",
    "\n",
    "ax.grid(False)\n",
    "ax.set_xticklabels(data_sub.index, fontfamily='serif', rotation=0)\n",
    "ax.margins(x=0) # remove white spaces next to margins\n",
    "\n",
    "ax.set_xlim(2008,2020)\n",
    "plt.xticks(np.arange(2008, 2021, 1))\n",
    "\n",
    "fig.text(0.13, 0.85, 'USA vs. India: When was content added?', fontsize=15, fontweight='bold', fontfamily='serif')\n",
    "fig.text(0.13, 0.58, \n",
    "'''\n",
    "We know from our work above that Netflix is dominated by the USA & India.\n",
    "It would also be reasonable to assume that, since Netflix is an American\n",
    "compnany, Netflix increased content first in the USA, before \n",
    "other nations. \n",
    "\n",
    "That is exactly what we see here; a slow and then rapid\n",
    "increase in content for the USA, followed by Netflix \n",
    "being launched to the Indian market in 2016.'''\n",
    "\n",
    ", fontsize=12, fontweight='light', fontfamily='serif')\n",
    "\n",
    "\n",
    "\n",
    "fig.text(0.13,0.15,\"India\", fontweight=\"bold\", fontfamily='serif', fontsize=15, color='#b20710')\n",
    "fig.text(0.188,0.15,\"|\", fontweight=\"bold\", fontfamily='serif', fontsize=15, color='black')\n",
    "fig.text(0.198,0.15,\"USA\", fontweight=\"bold\", fontfamily='serif', fontsize=15, color='#221f1f')\n",
    "\n",
    "\n",
    "ax.tick_params(axis=u'both', which=u'both',length=0)\n",
    "\n",
    "\n",
    "plt.show()"
   ]
  },
  {
   "cell_type": "code",
   "execution_count": null,
   "metadata": {
    "_kg_hide-input": true,
    "execution": {
     "iopub.execute_input": "2021-04-01T06:48:28.129865Z",
     "iopub.status.busy": "2021-04-01T06:48:28.129189Z",
     "iopub.status.idle": "2021-04-01T06:48:28.143772Z",
     "shell.execute_reply": "2021-04-01T06:48:28.143183Z"
    },
    "papermill": {
     "duration": 0.111446,
     "end_time": "2021-04-01T06:48:28.143918",
     "exception": false,
     "start_time": "2021-04-01T06:48:28.032472",
     "status": "completed"
    },
    "tags": []
   },
   "outputs": [],
   "source": [
    "us_ind = df[(df['first_country'] == 'USA') | (df['first_country'] == 'India' )]\n",
    "\n",
    "data_sub = df.groupby('first_country')['year_added'].value_counts().unstack().fillna(0).loc[['USA','India']].cumsum(axis=0).T\n",
    "data_sub.insert(0, \"base\", np.zeros(len(data_sub)))\n",
    "\n",
    "data_sub = data_sub.add(-us_ind['year_added'].value_counts()/2, axis=0)\n"
   ]
  },
  {
   "cell_type": "markdown",
   "metadata": {
    "papermill": {
     "duration": 0.085533,
     "end_time": "2021-04-01T06:48:28.314736",
     "exception": false,
     "start_time": "2021-04-01T06:48:28.229203",
     "status": "completed"
    },
    "tags": []
   },
   "source": [
    "So the USA dominates. But is there a plot that can convey this in another way?"
   ]
  },
  {
   "cell_type": "code",
   "execution_count": null,
   "metadata": {
    "execution": {
     "iopub.execute_input": "2021-04-01T06:48:28.551421Z",
     "iopub.status.busy": "2021-04-01T06:48:28.547962Z",
     "iopub.status.idle": "2021-04-01T06:48:28.778893Z",
     "shell.execute_reply": "2021-04-01T06:48:28.779406Z"
    },
    "papermill": {
     "duration": 0.357782,
     "end_time": "2021-04-01T06:48:28.779580",
     "exception": false,
     "start_time": "2021-04-01T06:48:28.421798",
     "status": "completed"
    },
    "tags": []
   },
   "outputs": [],
   "source": [
    "fig, ax = plt.subplots(1, 1, figsize=(14, 6))\n",
    "color = ['#b20710','#221f1f'][::-1]\n",
    "hs_list = data_sub.columns\n",
    "hs_built = data_sub[hs]\n",
    "\n",
    "for i, hs in enumerate(hs_list):\n",
    "    if i == 0 : continue\n",
    "    ax.fill_between(hs_built.index, data_sub.iloc[:,i-1], data_sub.iloc[:,i], color=color[i-1])\n",
    "    \n",
    "for s in ['top', 'right', 'bottom', 'left']:\n",
    "    ax.spines[s].set_visible(False)\n",
    "ax.set_axisbelow(True)\n",
    "ax.set_yticks([])\n",
    "#ax.legend(loc='upper left')\n",
    "ax.grid(False)\n",
    "\n",
    "fig.text(0.16, 0.76, 'USA vs. India: Stream graph of new content added', fontsize=15, fontweight='bold', fontfamily='serif')\n",
    "fig.text(0.16, 0.575, \n",
    "'''\n",
    "Seeing the data displayed like this helps \n",
    "us to realise just how much content is added in the USA.\n",
    "Remember, India has the second largest amount of\n",
    "content yet is dwarfed by the USA.'''\n",
    "\n",
    ", fontsize=12, fontweight='light', fontfamily='serif')\n",
    "\n",
    "fig.text(0.16,0.41,\"India\", fontweight=\"bold\", fontfamily='serif', fontsize=15, color='#b20710')\n",
    "fig.text(0.208,0.41,\"|\", fontweight=\"bold\", fontfamily='serif', fontsize=15, color='black')\n",
    "fig.text(0.218,0.41,\"USA\", fontweight=\"bold\", fontfamily='serif', fontsize=15, color='#221f1f')\n",
    "\n",
    "\n",
    "ax.tick_params(axis=u'y', which=u'both',length=0)\n",
    "\n",
    "plt.show()"
   ]
  },
  {
   "cell_type": "markdown",
   "metadata": {
    "papermill": {
     "duration": 0.13894,
     "end_time": "2021-04-01T06:48:29.007932",
     "exception": false,
     "start_time": "2021-04-01T06:48:28.868992",
     "status": "completed"
    },
    "tags": []
   },
   "source": [
    "# Lastly, we can view a wordcloud to get an overview of Netflix titles\n",
    "\n",
    "\n",
    "It is interesting to note that many films share the same key words in their titles.\n",
    "\n",
    "\n",
    "\n",
    "Credit to Dmitry Uarov for figuring this visual out. His notebook is here:\n",
    "\n",
    "https://www.kaggle.com/dmitryuarov/netflix-eda-with-plotly\n",
    "\n"
   ]
  },
  {
   "cell_type": "code",
   "execution_count": null,
   "metadata": {
    "_kg_hide-input": true,
    "execution": {
     "iopub.execute_input": "2021-04-01T06:48:29.194363Z",
     "iopub.status.busy": "2021-04-01T06:48:29.193461Z",
     "iopub.status.idle": "2021-04-01T06:48:31.882245Z",
     "shell.execute_reply": "2021-04-01T06:48:31.882726Z"
    },
    "papermill": {
     "duration": 2.785969,
     "end_time": "2021-04-01T06:48:31.882905",
     "exception": false,
     "start_time": "2021-04-01T06:48:29.096936",
     "status": "completed"
    },
    "tags": []
   },
   "outputs": [],
   "source": [
    "from wordcloud import WordCloud\n",
    "import random\n",
    "from PIL import Image\n",
    "import matplotlib\n",
    "\n",
    "# Custom colour map based on Netflix palette\n",
    "cmap = matplotlib.colors.LinearSegmentedColormap.from_list(\"\", ['#221f1f', '#b20710'])\n",
    "\n",
    "text = str(list(df['title'])).replace(',', '').replace('[', '').replace(\"'\", '').replace(']', '').replace('.', '')\n",
    "\n",
    "# mask = np.array(Image.open('./unnamed.png'))\n",
    "\n",
    "wordcloud = WordCloud(background_color = 'white', width = 500,  height = 200,colormap=cmap, max_words = 150, mask = mask).generate(text)\n",
    "\n",
    "plt.figure( figsize=(5,5))\n",
    "plt.imshow(wordcloud, interpolation = 'bilinear')\n",
    "plt.axis('off')\n",
    "plt.tight_layout(pad=0)\n",
    "plt.show()"
   ]
  },
  {
   "cell_type": "markdown",
   "metadata": {
    "papermill": {
     "duration": 0.092039,
     "end_time": "2021-04-01T06:48:32.067927",
     "exception": false,
     "start_time": "2021-04-01T06:48:31.975888",
     "status": "completed"
    },
    "tags": []
   },
   "source": [
    "\n",
    "# Thanks for reading!\n",
    "\n",
    "# I hope you enjoyed my visuals \n",
    "\n",
    "# Please consider upvoting if you did\n",
    "\n",
    "# Have a great day\n",
    "\n",
    "\n",
    "View more of my work:\n",
    "\n",
    "**Exploratory Data Visualization - Student Performance**\n",
    "\n",
    "https://www.kaggle.com/joshuaswords/data-visualisation-student-results\n",
    "\n",
    "**Visuals & Modelling**\n",
    "\n",
    "https://www.kaggle.com/joshuaswords/awesome-hr-data-visualization-prediction\n",
    "\n",
    "**Visuals & Customer Segmentation**\n",
    "\n",
    "https://www.kaggle.com/joshuaswords/data-visualization-clustering-mall-data\n",
    "\n",
    "**March 2021 Tabular Playground Series**\n",
    "\n",
    "https://www.kaggle.com/joshuaswords/tps-eda-model-march-2020\n",
    "\n"
   ]
  },
  {
   "cell_type": "code",
   "execution_count": null,
   "metadata": {
    "papermill": {
     "duration": 0.09215,
     "end_time": "2021-04-01T06:48:32.253927",
     "exception": false,
     "start_time": "2021-04-01T06:48:32.161777",
     "status": "completed"
    },
    "tags": []
   },
   "outputs": [],
   "source": []
  }
 ],
 "metadata": {
  "kernelspec": {
   "display_name": "Python 3 (ipykernel)",
   "language": "python",
   "name": "python3"
  },
  "language_info": {
   "codemirror_mode": {
    "name": "ipython",
    "version": 3
   },
   "file_extension": ".py",
   "mimetype": "text/x-python",
   "name": "python",
   "nbconvert_exporter": "python",
   "pygments_lexer": "ipython3",
   "version": "3.10.6"
  },
  "papermill": {
   "default_parameters": {},
   "duration": 25.567508,
   "end_time": "2021-04-01T06:48:33.056801",
   "environment_variables": {},
   "exception": null,
   "input_path": "__notebook__.ipynb",
   "output_path": "__notebook__.ipynb",
   "parameters": {},
   "start_time": "2021-04-01T06:48:07.489293",
   "version": "2.2.2"
  }
 },
 "nbformat": 4,
 "nbformat_minor": 4
}
